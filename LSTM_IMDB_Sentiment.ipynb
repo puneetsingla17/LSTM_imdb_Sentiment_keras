{
  "cells": [
    {
      "metadata": {
        "_uuid": "8f2839f25d086af736a60e9eeb907d3b93b6e0e5",
        "_cell_guid": "b1076dfc-b9ad-4769-8c92-a6c4dae69d19",
        "trusted": true
      },
      "cell_type": "code",
      "source": "# This Python 3 environment comes with many helpful analytics libraries installed\n# It is defined by the kaggle/python docker image: https://github.com/kaggle/docker-python\n# For example, here's several helpful packages to load in \n\nimport numpy as np # linear algebra\nimport pandas as pd # data processing, CSV file I/O (e.g. pd.read_csv)\nfrom keras.layers import Embedding,SpatialDropout1D,Dense,LSTM,Flatten\n# Input data files are available in the \"../input/\" directory.\n# For example, running this (by clicking run or pressing Shift+Enter) will list the files in the input directory\nfrom keras.datasets import imdb\nfrom keras.models import Sequential\nfrom keras.preprocessing.sequence import pad_sequences\nfrom sklearn.metrics import roc_auc_score\nimport matplotlib.pyplot as plt\nimport os\nprint(os.listdir(\"../input\"))\n\n# Any results you write to the current directory are saved as output.",
      "execution_count": 1,
      "outputs": [
        {
          "output_type": "stream",
          "text": "Using TensorFlow backend.\n",
          "name": "stderr"
        },
        {
          "output_type": "stream",
          "text": "[]\n",
          "name": "stdout"
        }
      ]
    },
    {
      "metadata": {
        "_cell_guid": "79c7e3d0-c299-4dcb-8224-4455121ee9b0",
        "_uuid": "d629ff2d2480ee46fbb7e2d37f6b5fab8052498a",
        "trusted": true
      },
      "cell_type": "code",
      "source": "nepochs=8\nmax_review_length=100\npad_type=trunc_type='pre'\ndrop_embed=0.2\ndrop_lstm=0.2\nbatchsize=128\nn_unique=10000\nn_lstm=256\nndims=64",
      "execution_count": 2,
      "outputs": []
    },
    {
      "metadata": {
        "trusted": true,
        "_uuid": "1d522229b723ae2e61c2709171c26339a485205d"
      },
      "cell_type": "code",
      "source": "(xtrain,ytrain),(xvalid,yvalid)=imdb.load_data(num_words=n_unique)",
      "execution_count": 3,
      "outputs": [
        {
          "output_type": "stream",
          "text": "Downloading data from https://s3.amazonaws.com/text-datasets/imdb.npz\n17465344/17464789 [==============================] - 10s 1us/step\n",
          "name": "stdout"
        }
      ]
    },
    {
      "metadata": {
        "trusted": true,
        "_uuid": "b4c73b10a5215e984505a4555941c1749268ba13"
      },
      "cell_type": "code",
      "source": "xtrain1=pad_sequences(xtrain,maxlen=max_review_length,padding=pad_type,truncating=trunc_type)\nxvalid1=pad_sequences(xvalid,maxlen=max_review_length,padding=pad_type,truncating=trunc_type)",
      "execution_count": 4,
      "outputs": []
    },
    {
      "metadata": {
        "trusted": true,
        "_uuid": "875d9d9900f9ba9a75f3e362556adae00c501431"
      },
      "cell_type": "code",
      "source": "[len(i) for i in xtrain1[:10]]",
      "execution_count": 5,
      "outputs": [
        {
          "output_type": "execute_result",
          "execution_count": 5,
          "data": {
            "text/plain": "[100, 100, 100, 100, 100, 100, 100, 100, 100, 100]"
          },
          "metadata": {}
        }
      ]
    },
    {
      "metadata": {
        "trusted": true,
        "_uuid": "80d841444ab58c306758d782dd5b2cb0f32da857"
      },
      "cell_type": "code",
      "source": "model=Sequential()\nmodel.add(Embedding(n_unique,ndims,input_length=max_review_length))\nmodel.add(SpatialDropout1D(drop_embed))\nmodel.add(LSTM(n_lstm,dropout=drop_lstm))\nmodel.add(Dense(1,activation='sigmoid'))",
      "execution_count": 6,
      "outputs": []
    },
    {
      "metadata": {
        "trusted": true,
        "_uuid": "56324a0e1745acf21e8ef53b3bcc461c933f365f"
      },
      "cell_type": "code",
      "source": "model.summary()",
      "execution_count": 7,
      "outputs": [
        {
          "output_type": "stream",
          "text": "_________________________________________________________________\nLayer (type)                 Output Shape              Param #   \n=================================================================\nembedding_1 (Embedding)      (None, 100, 64)           640000    \n_________________________________________________________________\nspatial_dropout1d_1 (Spatial (None, 100, 64)           0         \n_________________________________________________________________\nlstm_1 (LSTM)                (None, 256)               328704    \n_________________________________________________________________\ndense_1 (Dense)              (None, 1)                 257       \n=================================================================\nTotal params: 968,961\nTrainable params: 968,961\nNon-trainable params: 0\n_________________________________________________________________\n",
          "name": "stdout"
        }
      ]
    },
    {
      "metadata": {
        "trusted": true,
        "_uuid": "5bfd80abe1cd6397e3457d2e677b74cc9e8d2a72"
      },
      "cell_type": "code",
      "source": "model.compile(loss='binary_crossentropy',optimizer='adam',metrics=['accuracy'])",
      "execution_count": 8,
      "outputs": []
    },
    {
      "metadata": {
        "trusted": true,
        "_uuid": "fb1587bf5ea364fb41814efed249e6ee5a32fe26",
        "scrolled": true
      },
      "cell_type": "code",
      "source": "history=model.fit(xtrain1,ytrain,batch_size=batchsize,epochs=nepochs,verbose=1,validation_data=(xvalid1,yvalid))",
      "execution_count": 9,
      "outputs": [
        {
          "output_type": "stream",
          "text": "Train on 25000 samples, validate on 25000 samples\nEpoch 1/8\n25000/25000 [==============================] - 64s 3ms/step - loss: 0.5008 - acc: 0.7448 - val_loss: 0.3530 - val_acc: 0.8420\nEpoch 2/8\n25000/25000 [==============================] - 60s 2ms/step - loss: 0.2940 - acc: 0.8804 - val_loss: 0.3532 - val_acc: 0.8460\nEpoch 3/8\n25000/25000 [==============================] - 60s 2ms/step - loss: 0.2351 - acc: 0.9082 - val_loss: 0.3768 - val_acc: 0.8446\nEpoch 4/8\n25000/25000 [==============================] - 60s 2ms/step - loss: 0.2005 - acc: 0.9219 - val_loss: 0.3699 - val_acc: 0.8437\nEpoch 5/8\n25000/25000 [==============================] - 60s 2ms/step - loss: 0.1685 - acc: 0.9366 - val_loss: 0.4396 - val_acc: 0.8396\nEpoch 6/8\n25000/25000 [==============================] - 60s 2ms/step - loss: 0.1343 - acc: 0.9524 - val_loss: 0.4346 - val_acc: 0.8386\nEpoch 7/8\n25000/25000 [==============================] - 60s 2ms/step - loss: 0.1198 - acc: 0.9553 - val_loss: 0.4898 - val_acc: 0.8309\nEpoch 8/8\n25000/25000 [==============================] - 60s 2ms/step - loss: 0.0934 - acc: 0.9671 - val_loss: 0.6004 - val_acc: 0.8309\n",
          "name": "stdout"
        }
      ]
    },
    {
      "metadata": {
        "trusted": true,
        "_uuid": "1c37a68b8523c96b551d43ef3f511fc9dc45d636"
      },
      "cell_type": "code",
      "source": "plt.plot(history.history['val_acc'],'r',label='val_acc')\nplt.plot(history.history['acc'],'b',label='train_acc')\nplt.legend()",
      "execution_count": 11,
      "outputs": [
        {
          "output_type": "execute_result",
          "execution_count": 11,
          "data": {
            "text/plain": "<matplotlib.legend.Legend at 0x7fcde80bcd30>"
          },
          "metadata": {}
        },
        {
          "output_type": "display_data",
          "data": {
            "text/plain": "<Figure size 432x288 with 1 Axes>",
            "image/png": "[encoded data removed]"
          },
          "metadata": {}
        }
      ]
    },
    {
      "metadata": {
        "trusted": true,
        "_uuid": "b99b7ff026f9796b7fab51584af18514bce7d11c"
      },
      "cell_type": "code",
      "source": "plt.plot(history.history['val_loss'],'r',label='val_loss')\nplt.plot(history.history['loss'],'b',label='train_loss')\nplt.legend()",
      "execution_count": 12,
      "outputs": [
        {
          "output_type": "execute_result",
          "execution_count": 12,
          "data": {
            "text/plain": "<matplotlib.legend.Legend at 0x7fcde8031898>"
          },
          "metadata": {}
        },
        {
          "output_type": "display_data",
          "data": {
            "text/plain": "<Figure size 432x288 with 1 Axes>",
            "image/png": "[encoded data removed]"
          },
          "metadata": {}
        }
      ]
    },
    {
      "metadata": {
        "trusted": true,
        "_uuid": "9bc8949bfeff41ab86fa56c2068ace2a1cc80663"
      },
      "cell_type": "code",
      "source": "#Tuning Hyperparameters\nmax_review_length=150",
      "execution_count": 14,
      "outputs": []
    },
    {
      "metadata": {
        "trusted": true,
        "_uuid": "0948d4a5243158b738255a607136be2846e2e4e9"
      },
      "cell_type": "code",
      "source": "xtrain1=pad_sequences(xtrain,maxlen=max_review_length,padding=pad_type,truncating=trunc_type)\nxvalid1=pad_sequences(xvalid,maxlen=max_review_length,padding=pad_type,truncating=trunc_type)",
      "execution_count": 15,
      "outputs": []
    },
    {
      "metadata": {
        "trusted": true,
        "_uuid": "6125777fbbe876e2724feac87aaad71d1a305459"
      },
      "cell_type": "code",
      "source": "model=Sequential()\nmodel.add(Embedding(n_unique,ndims,input_length=max_review_length))\nmodel.add(SpatialDropout1D(drop_embed))\nmodel.add(LSTM(n_lstm,dropout=drop_lstm))\nmodel.add(Dense(1,activation='sigmoid'))",
      "execution_count": 16,
      "outputs": []
    },
    {
      "metadata": {
        "trusted": true,
        "_uuid": "33845b0a9c2d1007fee2a393df78db0135f8df82"
      },
      "cell_type": "code",
      "source": "model.summary()",
      "execution_count": 17,
      "outputs": [
        {
          "output_type": "stream",
          "text": "_________________________________________________________________\nLayer (type)                 Output Shape              Param #   \n=================================================================\nembedding_2 (Embedding)      (None, 150, 64)           640000    \n_________________________________________________________________\nspatial_dropout1d_2 (Spatial (None, 150, 64)           0         \n_________________________________________________________________\nlstm_2 (LSTM)                (None, 256)               328704    \n_________________________________________________________________\ndense_2 (Dense)              (None, 1)                 257       \n=================================================================\nTotal params: 968,961\nTrainable params: 968,961\nNon-trainable params: 0\n_________________________________________________________________\n",
          "name": "stdout"
        }
      ]
    },
    {
      "metadata": {
        "trusted": true,
        "_uuid": "d6ca678a16ebf520bbb6ff70a9172be3d4898c19"
      },
      "cell_type": "code",
      "source": "model.compile(loss='binary_crossentropy',optimizer='adam',metrics=['accuracy'])",
      "execution_count": 18,
      "outputs": []
    },
    {
      "metadata": {
        "trusted": true,
        "_uuid": "4b7ac0d3c97a82b6ac2e65baf91b2b3f09e71cdc"
      },
      "cell_type": "code",
      "source": "history1=model.fit(xtrain1,ytrain,batch_size=batchsize,epochs=nepochs,verbose=1,validation_data=(xvalid1,yvalid))",
      "execution_count": 19,
      "outputs": [
        {
          "output_type": "stream",
          "text": "Train on 25000 samples, validate on 25000 samples\nEpoch 1/8\n25000/25000 [==============================] - 91s 4ms/step - loss: 0.5586 - acc: 0.6970 - val_loss: 0.3713 - val_acc: 0.8414\nEpoch 2/8\n25000/25000 [==============================] - 90s 4ms/step - loss: 0.2939 - acc: 0.8783 - val_loss: 0.3750 - val_acc: 0.8564\nEpoch 3/8\n25000/25000 [==============================] - 90s 4ms/step - loss: 0.2228 - acc: 0.9137 - val_loss: 0.3253 - val_acc: 0.8649\nEpoch 4/8\n25000/25000 [==============================] - 90s 4ms/step - loss: 0.1889 - acc: 0.9290 - val_loss: 0.3753 - val_acc: 0.8561\nEpoch 5/8\n25000/25000 [==============================] - 90s 4ms/step - loss: 0.1516 - acc: 0.9428 - val_loss: 0.3742 - val_acc: 0.8590\nEpoch 6/8\n25000/25000 [==============================] - 89s 4ms/step - loss: 0.1241 - acc: 0.9544 - val_loss: 0.8871 - val_acc: 0.8210\nEpoch 7/8\n25000/25000 [==============================] - 89s 4ms/step - loss: 0.1191 - acc: 0.9574 - val_loss: 0.5626 - val_acc: 0.8432\nEpoch 8/8\n25000/25000 [==============================] - 89s 4ms/step - loss: 0.0930 - acc: 0.9675 - val_loss: 0.5370 - val_acc: 0.8456\n",
          "name": "stdout"
        }
      ]
    },
    {
      "metadata": {
        "trusted": true,
        "_uuid": "95fcfe67fb6205accfc98de3ef19a57256bbfc6b"
      },
      "cell_type": "code",
      "source": "plt.plot(history1.history['val_acc'],'r',label='val_acc')\nplt.plot(history1.history['acc'],'b',label='train_acc')\nplt.legend()",
      "execution_count": 20,
      "outputs": [
        {
          "output_type": "execute_result",
          "execution_count": 20,
          "data": {
            "text/plain": "<matplotlib.legend.Legend at 0x7fcde3d71780>"
          },
          "metadata": {}
        },
        {
          "output_type": "display_data",
          "data": {
            "text/plain": "<Figure size 432x288 with 1 Axes>",
            "image/png": "[encoded data removed]"
          },
          "metadata": {}
        }
      ]
    },
    {
      "metadata": {
        "trusted": true,
        "_uuid": "147604c73e78b96e9d33c41405b1296483f6e5d9"
      },
      "cell_type": "code",
      "source": "plt.plot(history1.history['val_loss'],'r',label='val_loss')\nplt.plot(history1.history['loss'],'b',label='train_loss')\nplt.legend()",
      "execution_count": 21,
      "outputs": [
        {
          "output_type": "execute_result",
          "execution_count": 21,
          "data": {
            "text/plain": "<matplotlib.legend.Legend at 0x7fcde3d594a8>"
          },
          "metadata": {}
        },
        {
          "output_type": "display_data",
          "data": {
            "text/plain": "<Figure size 432x288 with 1 Axes>",
            "image/png": "[encoded data removed]"
          },
          "metadata": {}
        }
      ]
    },
    {
      "metadata": {
        "trusted": true,
        "_uuid": "84b0052507b10316b40eb5bad09820750db62d32"
      },
      "cell_type": "code",
      "source": "# Tuning the Hyperparameter\n# Increasing n_neurons in LSTM",
      "execution_count": 22,
      "outputs": []
    },
    {
      "metadata": {
        "trusted": true,
        "_uuid": "802059e8d4c6a49df38954f13ad6cd401cca1c96"
      },
      "cell_type": "code",
      "source": "n_lstm=512\nmax_review_length=150",
      "execution_count": 25,
      "outputs": []
    },
    {
      "metadata": {
        "trusted": true,
        "_uuid": "9544dcdbca3de482ae8f6beb0df6dd8484fd9906"
      },
      "cell_type": "code",
      "source": "xtrain1=pad_sequences(xtrain,maxlen=max_review_length,padding=pad_type,truncating=trunc_type)\nxvalid1=pad_sequences(xvalid,maxlen=max_review_length,padding=pad_type,truncating=trunc_type)",
      "execution_count": 24,
      "outputs": []
    },
    {
      "metadata": {
        "trusted": true,
        "_uuid": "cf4814d8a178cbd9fc92e0b28032b5f4987896cc"
      },
      "cell_type": "code",
      "source": "model=Sequential()\nmodel.add(Embedding(n_unique,ndims,input_length=max_review_length))\nmodel.add(SpatialDropout1D(drop_embed))\nmodel.add(LSTM(n_lstm,dropout=drop_lstm))\nmodel.add(Dense(1,activation='sigmoid'))",
      "execution_count": 26,
      "outputs": []
    },
    {
      "metadata": {
        "trusted": true,
        "_uuid": "9ce5d70ab3463255ba822417f80b7ceaa3d8d18a"
      },
      "cell_type": "code",
      "source": "model.summary()",
      "execution_count": 27,
      "outputs": [
        {
          "output_type": "stream",
          "text": "_________________________________________________________________\nLayer (type)                 Output Shape              Param #   \n=================================================================\nembedding_3 (Embedding)      (None, 150, 64)           640000    \n_________________________________________________________________\nspatial_dropout1d_3 (Spatial (None, 150, 64)           0         \n_________________________________________________________________\nlstm_3 (LSTM)                (None, 512)               1181696   \n_________________________________________________________________\ndense_3 (Dense)              (None, 1)                 513       \n=================================================================\nTotal params: 1,822,209\nTrainable params: 1,822,209\nNon-trainable params: 0\n_________________________________________________________________\n",
          "name": "stdout"
        }
      ]
    },
    {
      "metadata": {
        "trusted": true,
        "_uuid": "2ce584a8c1882a56047f898376f0750df7556c1e"
      },
      "cell_type": "code",
      "source": "model.compile(loss='binary_crossentropy',optimizer='adam',metrics=['accuracy'])",
      "execution_count": 28,
      "outputs": []
    },
    {
      "metadata": {
        "trusted": true,
        "_uuid": "3eae53b0889b6676e6834ad2e12bfac1943ba6f3"
      },
      "cell_type": "code",
      "source": "history2=model.fit(xtrain1,ytrain,batch_size=batchsize,epochs=4,verbose=1,validation_data=(xvalid1,yvalid))",
      "execution_count": 29,
      "outputs": [
        {
          "output_type": "stream",
          "text": "Train on 25000 samples, validate on 25000 samples\nEpoch 1/4\n25000/25000 [==============================] - 109s 4ms/step - loss: 0.5160 - acc: 0.7384 - val_loss: 0.3638 - val_acc: 0.8468\nEpoch 2/4\n25000/25000 [==============================] - 107s 4ms/step - loss: 0.2900 - acc: 0.8828 - val_loss: 0.3222 - val_acc: 0.8648\nEpoch 3/4\n25000/25000 [==============================] - 107s 4ms/step - loss: 0.2257 - acc: 0.9136 - val_loss: 0.3284 - val_acc: 0.8590\nEpoch 4/4\n25000/25000 [==============================] - 107s 4ms/step - loss: 0.1833 - acc: 0.9304 - val_loss: 0.3365 - val_acc: 0.8597\n",
          "name": "stdout"
        }
      ]
    },
    {
      "metadata": {
        "trusted": true,
        "_uuid": "c97cabdcdb3d3d5935f7ac827f01a97b0e0dd054"
      },
      "cell_type": "code",
      "source": "y_hat=model.predict_proba(xvalid1)",
      "execution_count": 30,
      "outputs": []
    },
    {
      "metadata": {
        "trusted": true,
        "_uuid": "624ddd2646ab3d6d8ab666f4fb17710857f6afe9"
      },
      "cell_type": "code",
      "source": "percentage_roc_auc=roc_auc_score(yvalid,y_hat)*100",
      "execution_count": 33,
      "outputs": []
    },
    {
      "metadata": {
        "trusted": true,
        "_uuid": "e05a44229570646020b66db2f3645170c0d9f61e"
      },
      "cell_type": "code",
      "source": "percentage_roc_auc",
      "execution_count": 34,
      "outputs": [
        {
          "output_type": "execute_result",
          "execution_count": 34,
          "data": {
            "text/plain": "93.5839488"
          },
          "metadata": {}
        }
      ]
    },
    {
      "metadata": {
        "trusted": true,
        "_uuid": "8433252e070b9f5b1b1c7d267087615add5d7313"
      },
      "cell_type": "code",
      "source": "plt.hist(y_hat)",
      "execution_count": 35,
      "outputs": [
        {
          "output_type": "execute_result",
          "execution_count": 35,
          "data": {
            "text/plain": "(array([8279., 1640.,  950.,  736.,  645.,  653.,  704.,  880., 1515.,\n        8998.]),\n array([3.02310564e-05, 1.00024156e-01, 2.00018078e-01, 3.00011992e-01,\n        4.00005937e-01, 4.99999851e-01, 5.99993765e-01, 6.99987710e-01,\n        7.99981654e-01, 8.99975538e-01, 9.99969482e-01], dtype=float32),\n <a list of 10 Patch objects>)"
          },
          "metadata": {}
        },
        {
          "output_type": "display_data",
          "data": {
            "text/plain": "<Figure size 432x288 with 1 Axes>",
            "image/png": "[encoded data removed]"
          },
          "metadata": {}
        }
      ]
    },
    {
      "metadata": {
        "trusted": true,
        "_uuid": "ae0dc95bd2072cd493961b36f1f8f616dfb1af65"
      },
      "cell_type": "code",
      "source": "###DONE ####",
      "execution_count": null,
      "outputs": []
    }
  ],
  "metadata": {
    "kernelspec": {
      "display_name": "Python 3",
      "language": "python",
      "name": "python3"
    },
    "language_info": {
      "name": "python",
      "version": "3.6.6",
      "mimetype": "text/x-python",
      "codemirror_mode": {
        "name": "ipython",
        "version": 3
      },
      "pygments_lexer": "ipython3",
      "nbconvert_exporter": "python",
      "file_extension": ".py"
    }
  },
  "nbformat": 4,
  "nbformat_minor": 1
}